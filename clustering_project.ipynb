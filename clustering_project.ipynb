{
 "cells": [
  {
   "cell_type": "markdown",
   "metadata": {},
   "source": [
    "# CENG474: Project 2 - Clustering\n",
    "\n",
    "Due: 2019-12-17\n",
    "Team: Abdulkerim Güven, Süha Tanrıverdi, Esin Gökçe\n",
    "\n",
    "Use the ALS dataset. This case-study examines the patterns, symmetries, associations and causality in a rare but devastating disease, amyotrophic lateral sclerosis (ALS). A major clinically relevant question in this biomedical study is: What patient phenotypes can be automatically and reliably identified and used to predict the change of the ALSFRS slope over time?. This problem aims to explore the data set by unsupervised learning.\n",
    "\n",
    "TODO:\n",
    "* [ ] Load and prepare the data.\n",
    "* [ ] Perform summary and preliminary visualization.\n",
    "* [ ] Train a k-Means model on the data, select k as mentioned in [DataScience Course in UMICH](http://www.socr.umich.edu/people/dinov/2017/Spring/DSPA_HS650/notes/12_kMeans_Clustering.html).\n",
    "\t* k-Means için Nurdan hocanın önerdiği kaynak: [Chris Albon'un sitesi](https://chrisalbon.com/machine_learning/clustering/k-means_clustering/)\n",
    "* [ ] Evaluating the model performance by report the center of clusters and silhouette and explain details (since 100 dimensions, it is messy to use bar plot show the centers).\n",
    "* [ ] Tune parameters and plot with k-means++.\n",
    "* [ ] Return the model with optimal parameters and interpret the clustering results.\n",
    "* [ ] Apply Hierarchical Clustering on three different linkages and compare the corresponding Silhouette plots.\n",
    "\t* Hierarchical için Nurdan hocanın önerdiği kaynak: [Chris Albon'un sitesi](https://chrisalbon.com/machine_learning/clustering/agglomerative_clustering/)\n",
    "* [ ] Apply DBSCAN on different minpoints and eps\n",
    "\t* DBScan için Nurdan hocanın önerdiği kaynak: [Chris Albon'un sitesi](https://chrisalbon.com/machine_learning/clustering/dbscan_clustering/)\n",
    "* [ ] Compare the result of the above methods.\n",
    "* Diğer kaynaklar:\n",
    "\t* Mean shift clustering : https://chrisalbon.com/machine_learning/clustering/meanshift_clustering/\n",
    "\t* Clustering validtiy: https://chrisalbon.com/machine_learning/clustering/evaluating_clustering/\n",
    "\n",
    "\n",
    "Bonus: Fit a Gaussian mixture model, select the optimal model and draw BIC and Silhouette plots.(Hint, you need to sample part of data or it could be very time consuming)."
   ]
  },
  {
   "cell_type": "code",
   "execution_count": 1,
   "metadata": {},
   "outputs": [
    {
     "data": {
      "text/plain": [
       "(2223, 99)"
      ]
     },
     "execution_count": 1,
     "metadata": {},
     "output_type": "execute_result"
    }
   ],
   "source": [
    "import pandas as pd\n",
    "# import numpy as np\n",
    "\n",
    "df = pd.read_csv(\"15_ALS_CaseStudy_export/ALS_TrainingData_2223.csv\")\n",
    "del df[\"ID\"]\n",
    "del df[\"SubjectID\"]\n",
    "\n",
    "df.shape"
   ]
  },
  {
   "cell_type": "code",
   "execution_count": 2,
   "metadata": {},
   "outputs": [
    {
     "data": {
      "text/html": [
       "<div>\n",
       "<style scoped>\n",
       "    .dataframe tbody tr th:only-of-type {\n",
       "        vertical-align: middle;\n",
       "    }\n",
       "\n",
       "    .dataframe tbody tr th {\n",
       "        vertical-align: top;\n",
       "    }\n",
       "\n",
       "    .dataframe thead th {\n",
       "        text-align: right;\n",
       "    }\n",
       "</style>\n",
       "<table border=\"1\" class=\"dataframe\">\n",
       "  <thead>\n",
       "    <tr style=\"text-align: right;\">\n",
       "      <th></th>\n",
       "      <th>Age_mean</th>\n",
       "      <th>Albumin_max</th>\n",
       "      <th>Albumin_median</th>\n",
       "      <th>Albumin_min</th>\n",
       "      <th>Albumin_range</th>\n",
       "      <th>ALSFRS_slope</th>\n",
       "      <th>ALSFRS_Total_max</th>\n",
       "      <th>ALSFRS_Total_median</th>\n",
       "      <th>ALSFRS_Total_min</th>\n",
       "      <th>ALSFRS_Total_range</th>\n",
       "      <th>...</th>\n",
       "      <th>Sodium_median</th>\n",
       "      <th>Sodium_min</th>\n",
       "      <th>Sodium_range</th>\n",
       "      <th>trunk_max</th>\n",
       "      <th>trunk_median</th>\n",
       "      <th>trunk_min</th>\n",
       "      <th>trunk_range</th>\n",
       "      <th>Urine.Ph_max</th>\n",
       "      <th>Urine.Ph_median</th>\n",
       "      <th>Urine.Ph_min</th>\n",
       "    </tr>\n",
       "  </thead>\n",
       "  <tbody>\n",
       "    <tr>\n",
       "      <th>0</th>\n",
       "      <td>65</td>\n",
       "      <td>57.0</td>\n",
       "      <td>40.5</td>\n",
       "      <td>38.0</td>\n",
       "      <td>0.066202</td>\n",
       "      <td>-0.965608</td>\n",
       "      <td>30</td>\n",
       "      <td>28.0</td>\n",
       "      <td>22</td>\n",
       "      <td>0.021164</td>\n",
       "      <td>...</td>\n",
       "      <td>145.5</td>\n",
       "      <td>143.0</td>\n",
       "      <td>0.017422</td>\n",
       "      <td>8</td>\n",
       "      <td>7.0</td>\n",
       "      <td>7</td>\n",
       "      <td>0.002646</td>\n",
       "      <td>6.0</td>\n",
       "      <td>6.0</td>\n",
       "      <td>6.0</td>\n",
       "    </tr>\n",
       "    <tr>\n",
       "      <th>1</th>\n",
       "      <td>48</td>\n",
       "      <td>45.0</td>\n",
       "      <td>41.0</td>\n",
       "      <td>39.0</td>\n",
       "      <td>0.010453</td>\n",
       "      <td>-0.921717</td>\n",
       "      <td>37</td>\n",
       "      <td>33.0</td>\n",
       "      <td>21</td>\n",
       "      <td>0.028725</td>\n",
       "      <td>...</td>\n",
       "      <td>138.0</td>\n",
       "      <td>136.0</td>\n",
       "      <td>0.010453</td>\n",
       "      <td>8</td>\n",
       "      <td>7.0</td>\n",
       "      <td>5</td>\n",
       "      <td>0.005386</td>\n",
       "      <td>7.0</td>\n",
       "      <td>5.0</td>\n",
       "      <td>5.0</td>\n",
       "    </tr>\n",
       "    <tr>\n",
       "      <th>2</th>\n",
       "      <td>38</td>\n",
       "      <td>50.0</td>\n",
       "      <td>47.0</td>\n",
       "      <td>45.0</td>\n",
       "      <td>0.008929</td>\n",
       "      <td>-0.914787</td>\n",
       "      <td>24</td>\n",
       "      <td>14.0</td>\n",
       "      <td>10</td>\n",
       "      <td>0.025000</td>\n",
       "      <td>...</td>\n",
       "      <td>143.0</td>\n",
       "      <td>140.0</td>\n",
       "      <td>0.008929</td>\n",
       "      <td>5</td>\n",
       "      <td>0.0</td>\n",
       "      <td>0</td>\n",
       "      <td>0.008929</td>\n",
       "      <td>6.0</td>\n",
       "      <td>5.0</td>\n",
       "      <td>5.0</td>\n",
       "    </tr>\n",
       "    <tr>\n",
       "      <th>3</th>\n",
       "      <td>63</td>\n",
       "      <td>47.0</td>\n",
       "      <td>44.0</td>\n",
       "      <td>41.0</td>\n",
       "      <td>0.012111</td>\n",
       "      <td>-0.598361</td>\n",
       "      <td>30</td>\n",
       "      <td>29.0</td>\n",
       "      <td>24</td>\n",
       "      <td>0.014963</td>\n",
       "      <td>...</td>\n",
       "      <td>139.0</td>\n",
       "      <td>138.0</td>\n",
       "      <td>0.012469</td>\n",
       "      <td>5</td>\n",
       "      <td>5.0</td>\n",
       "      <td>3</td>\n",
       "      <td>0.004988</td>\n",
       "      <td>7.0</td>\n",
       "      <td>6.0</td>\n",
       "      <td>5.0</td>\n",
       "    </tr>\n",
       "    <tr>\n",
       "      <th>4</th>\n",
       "      <td>63</td>\n",
       "      <td>47.0</td>\n",
       "      <td>45.5</td>\n",
       "      <td>42.0</td>\n",
       "      <td>0.008292</td>\n",
       "      <td>-0.444039</td>\n",
       "      <td>32</td>\n",
       "      <td>27.5</td>\n",
       "      <td>20</td>\n",
       "      <td>0.020374</td>\n",
       "      <td>...</td>\n",
       "      <td>140.0</td>\n",
       "      <td>138.0</td>\n",
       "      <td>0.008292</td>\n",
       "      <td>6</td>\n",
       "      <td>4.0</td>\n",
       "      <td>1</td>\n",
       "      <td>0.008489</td>\n",
       "      <td>6.0</td>\n",
       "      <td>5.0</td>\n",
       "      <td>5.0</td>\n",
       "    </tr>\n",
       "  </tbody>\n",
       "</table>\n",
       "<p>5 rows × 99 columns</p>\n",
       "</div>"
      ],
      "text/plain": [
       "   Age_mean  Albumin_max  Albumin_median  Albumin_min  Albumin_range  \\\n",
       "0        65         57.0            40.5         38.0       0.066202   \n",
       "1        48         45.0            41.0         39.0       0.010453   \n",
       "2        38         50.0            47.0         45.0       0.008929   \n",
       "3        63         47.0            44.0         41.0       0.012111   \n",
       "4        63         47.0            45.5         42.0       0.008292   \n",
       "\n",
       "   ALSFRS_slope  ALSFRS_Total_max  ALSFRS_Total_median  ALSFRS_Total_min  \\\n",
       "0     -0.965608                30                 28.0                22   \n",
       "1     -0.921717                37                 33.0                21   \n",
       "2     -0.914787                24                 14.0                10   \n",
       "3     -0.598361                30                 29.0                24   \n",
       "4     -0.444039                32                 27.5                20   \n",
       "\n",
       "   ALSFRS_Total_range  ...  Sodium_median  Sodium_min  Sodium_range  \\\n",
       "0            0.021164  ...          145.5       143.0      0.017422   \n",
       "1            0.028725  ...          138.0       136.0      0.010453   \n",
       "2            0.025000  ...          143.0       140.0      0.008929   \n",
       "3            0.014963  ...          139.0       138.0      0.012469   \n",
       "4            0.020374  ...          140.0       138.0      0.008292   \n",
       "\n",
       "   trunk_max  trunk_median  trunk_min  trunk_range  Urine.Ph_max  \\\n",
       "0          8           7.0          7     0.002646           6.0   \n",
       "1          8           7.0          5     0.005386           7.0   \n",
       "2          5           0.0          0     0.008929           6.0   \n",
       "3          5           5.0          3     0.004988           7.0   \n",
       "4          6           4.0          1     0.008489           6.0   \n",
       "\n",
       "   Urine.Ph_median  Urine.Ph_min  \n",
       "0              6.0           6.0  \n",
       "1              5.0           5.0  \n",
       "2              5.0           5.0  \n",
       "3              6.0           5.0  \n",
       "4              5.0           5.0  \n",
       "\n",
       "[5 rows x 99 columns]"
      ]
     },
     "execution_count": 2,
     "metadata": {},
     "output_type": "execute_result"
    }
   ],
   "source": [
    "df.head()"
   ]
  },
  {
   "cell_type": "code",
   "execution_count": 3,
   "metadata": {},
   "outputs": [],
   "source": [
    "## Hierarchical Clustering\n",
    "\n",
    "# Importing the stuff needed\n",
    "from sklearn.cluster import AgglomerativeClustering\n",
    "from scipy.cluster.hierarchy import dendrogram, linkage\n",
    "from matplotlib import pyplot as plt"
   ]
  },
  {
   "cell_type": "code",
   "execution_count": 4,
   "metadata": {},
   "outputs": [
    {
     "data": {
      "image/png": "[encoded data removed]",
      "text/plain": [
       "<Figure size 720x504 with 1 Axes>"
      ]
     },
     "metadata": {
      "needs_background": "light"
     },
     "output_type": "display_data"
    }
   ],
   "source": [
    "# Complete linked: complete linkage uses the maximum distances between all observations of the two sets.\n",
    "\n",
    "comp_linked = linkage(df, 'complete')\n",
    "\n",
    "plt.figure(figsize=(10, 7))\n",
    "dendrogram(comp_linked,\n",
    "           orientation='top',\n",
    "           distance_sort='descending',\n",
    "           show_leaf_counts=True)\n",
    "plt.show()"
   ]
  },
  {
   "cell_type": "code",
   "execution_count": null,
   "metadata": {},
   "outputs": [],
   "source": [
    "comp_cluster = AgglomerativeClustering(n_clusters=5, affinity='euclidean', linkage='complete')\n",
    "comp_cluster.fit_predict(df)"
   ]
  },
  {
   "cell_type": "code",
   "execution_count": 9,
   "metadata": {},
   "outputs": [
    {
     "data": {
      "image/png": "[encoded data removed]",
      "text/plain": [
       "<Figure size 720x504 with 1 Axes>"
      ]
     },
     "metadata": {
      "needs_background": "light"
     },
     "output_type": "display_data"
    }
   ],
   "source": [
    "# single uses the minimum of the distances between all observations of the two sets.\n",
    "\n",
    "avg_linked = linkage(df, 'average')\n",
    "\n",
    "plt.figure(figsize=(10, 7))\n",
    "dendrogram(avg_linked,\n",
    "           orientation='top',\n",
    "           distance_sort='descending',\n",
    "           show_leaf_counts=True)\n",
    "plt.show()"
   ]
  },
  {
   "cell_type": "code",
   "execution_count": null,
   "metadata": {},
   "outputs": [],
   "source": [
    "avg_cluster = AgglomerativeClustering(n_clusters=5, affinity='euclidean', linkage='average')\n",
    "avg_cluster.fit_predict(df)"
   ]
  },
  {
   "cell_type": "code",
   "execution_count": 6,
   "metadata": {},
   "outputs": [
    {
     "data": {
      "image/png": "[encoded data removed]",
      "text/plain": [
       "<Figure size 720x504 with 1 Axes>"
      ]
     },
     "metadata": {
      "needs_background": "light"
     },
     "output_type": "display_data"
    }
   ],
   "source": [
    "# ward minimizes the variance of the clusters being merged.\n",
    "\n",
    "ward_linked = linkage(df, 'ward')\n",
    "\n",
    "plt.figure(figsize=(10, 7))\n",
    "dendrogram(ward_linked,\n",
    "           orientation='top',\n",
    "           distance_sort='descending',\n",
    "           show_leaf_counts=True)\n",
    "plt.show()"
   ]
  },
  {
   "cell_type": "code",
   "execution_count": 7,
   "metadata": {},
   "outputs": [
    {
     "data": {
      "text/plain": [
       "array([0, 2, 0, ..., 3, 1, 2])"
      ]
     },
     "execution_count": 7,
     "metadata": {},
     "output_type": "execute_result"
    }
   ],
   "source": [
    "ward_cluster = AgglomerativeClustering(n_clusters=5, affinity='euclidean', linkage='ward')\n",
    "ward_cluster.fit_predict(df)"
   ]
  },
  {
   "cell_type": "code",
   "execution_count": 8,
   "metadata": {},
   "outputs": [],
   "source": []
  },
  {
   "cell_type": "code",
   "execution_count": null,
   "metadata": {},
   "outputs": [],
   "source": []
  }
 ],
 "metadata": {
  "kernelspec": {
   "display_name": "Python 3",
   "language": "python",
   "name": "python3"
  },
  "language_info": {
   "codemirror_mode": {
    "name": "ipython",
    "version": 3
   },
   "file_extension": ".py",
   "mimetype": "text/x-python",
   "name": "python",
   "nbconvert_exporter": "python",
   "pygments_lexer": "ipython3",
   "version": "3.7.3"
  }
 },
 "nbformat": 4,
 "nbformat_minor": 2
}
